{
 "cells": [
  {
   "cell_type": "code",
   "id": "initial_id",
   "metadata": {
    "collapsed": true,
    "ExecuteTime": {
     "end_time": "2025-09-07T21:22:10.607294Z",
     "start_time": "2025-09-07T21:22:10.583523Z"
    }
   },
   "source": "import math",
   "outputs": [],
   "execution_count": 32
  },
  {
   "metadata": {
    "ExecuteTime": {
     "end_time": "2025-09-07T21:22:11.048550Z",
     "start_time": "2025-09-07T21:22:11.043271Z"
    }
   },
   "cell_type": "code",
   "source": [
    "individuos=5\n",
    "x=[-4,4]\n",
    "y=[-4,8]\n",
    "precision=4"
   ],
   "id": "8038e990de0df5b4",
   "outputs": [],
   "execution_count": 33
  },
  {
   "metadata": {
    "ExecuteTime": {
     "end_time": "2025-09-07T21:22:12.585337Z",
     "start_time": "2025-09-07T21:22:12.581043Z"
    }
   },
   "cell_type": "code",
   "source": [
    "lsX=x[1]\n",
    "liX=x[0]\n",
    "lsY=y[1]\n",
    "liY=y[0]"
   ],
   "id": "7243bff05501588",
   "outputs": [],
   "execution_count": 34
  },
  {
   "metadata": {
    "ExecuteTime": {
     "end_time": "2025-09-07T21:22:13.484667Z",
     "start_time": "2025-09-07T21:22:13.479265Z"
    }
   },
   "cell_type": "code",
   "source": [
    "Lx=int(math.log((lsX-liX)*math.pow(10,precision),2)+0.9)\n",
    "print(f\"Logintud de X= {Lx}\")\n",
    "Ly=int(math.log((lsY-liY)*math.pow(10,precision),2)+0.9)\n",
    "print(f\"Logintud de Y= {Ly}\")\n"
   ],
   "id": "ecbff0255aa56f80",
   "outputs": [
    {
     "name": "stdout",
     "output_type": "stream",
     "text": [
      "Logintud de X= 17\n",
      "Logintud de Y= 17\n"
     ]
    }
   ],
   "execution_count": 35
  },
  {
   "metadata": {
    "ExecuteTime": {
     "end_time": "2025-09-07T21:22:14.356539Z",
     "start_time": "2025-09-07T21:22:14.352227Z"
    }
   },
   "cell_type": "code",
   "source": "bits=\"000000000\"",
   "id": "a4bdedc3da62a7d7",
   "outputs": [],
   "execution_count": 36
  },
  {
   "metadata": {
    "ExecuteTime": {
     "end_time": "2025-09-07T21:22:14.970086Z",
     "start_time": "2025-09-07T21:22:14.965417Z"
    }
   },
   "cell_type": "code",
   "source": [
    "xentero=int(bits,2)\n",
    "print(xentero)"
   ],
   "id": "3465ca6782a7d717",
   "outputs": [
    {
     "name": "stdout",
     "output_type": "stream",
     "text": [
      "0\n"
     ]
    }
   ],
   "execution_count": 37
  },
  {
   "metadata": {
    "ExecuteTime": {
     "end_time": "2025-09-07T21:22:15.584231Z",
     "start_time": "2025-09-07T21:22:15.580333Z"
    }
   },
   "cell_type": "code",
   "source": [
    "xreal=li+((xentero*(ls-li))/(math.pow(2,L)-1))\n",
    "print(xreal)"
   ],
   "id": "776b4519e709d3c9",
   "outputs": [
    {
     "name": "stdout",
     "output_type": "stream",
     "text": [
      "-2.0\n"
     ]
    }
   ],
   "execution_count": 38
  }
 ],
 "metadata": {
  "kernelspec": {
   "display_name": "Python 3",
   "language": "python",
   "name": "python3"
  },
  "language_info": {
   "codemirror_mode": {
    "name": "ipython",
    "version": 2
   },
   "file_extension": ".py",
   "mimetype": "text/x-python",
   "name": "python",
   "nbconvert_exporter": "python",
   "pygments_lexer": "ipython2",
   "version": "2.7.6"
  }
 },
 "nbformat": 4,
 "nbformat_minor": 5
}

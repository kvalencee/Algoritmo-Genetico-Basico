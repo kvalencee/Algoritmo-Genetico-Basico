{
 "cells": [
  {
   "cell_type": "code",
   "id": "initial_id",
   "metadata": {
    "collapsed": true,
    "ExecuteTime": {
     "end_time": "2025-09-11T22:33:06.563127Z",
     "start_time": "2025-09-11T22:33:06.559523Z"
    }
   },
   "source": [
    "import math\n",
    "import random"
   ],
   "outputs": [],
   "execution_count": 6
  },
  {
   "metadata": {
    "ExecuteTime": {
     "end_time": "2025-09-11T22:30:52.590621Z",
     "start_time": "2025-09-11T22:30:52.585685Z"
    }
   },
   "cell_type": "code",
   "source": [
    "individuos=5\n",
    "x=[-4,4]\n",
    "y=[-4,8]\n",
    "precision=4"
   ],
   "id": "8038e990de0df5b4",
   "outputs": [],
   "execution_count": 1
  },
  {
   "metadata": {
    "ExecuteTime": {
     "end_time": "2025-09-11T22:33:04.475983Z",
     "start_time": "2025-09-11T22:33:04.471633Z"
    }
   },
   "cell_type": "code",
   "source": [
    "lsX=x[1]\n",
    "liX=x[0]\n",
    "lsY=y[1]\n",
    "liY=y[0]"
   ],
   "id": "7243bff05501588",
   "outputs": [],
   "execution_count": 5
  },
  {
   "metadata": {
    "ExecuteTime": {
     "end_time": "2025-09-11T22:33:07.887768Z",
     "start_time": "2025-09-11T22:33:07.882768Z"
    }
   },
   "cell_type": "code",
   "source": [
    "Lx = int(math.log((lsX-liX)*math.pow(10,precision),2)+0.9)\n",
    "print(f\"Longitud de X = {Lx}\")\n",
    "\n",
    "Ly = int(math.log((lsY-liY)*math.pow(10,precision),2)+0.9)\n",
    "print(f\"Longitud de Y = {Ly}\")\n",
    "\n",
    "L_total = Lx + Ly\n",
    "print(f\"Longitud total = {L_total}\")"
   ],
   "id": "ecbff0255aa56f80",
   "outputs": [
    {
     "name": "stdout",
     "output_type": "stream",
     "text": [
      "Longitud de X = 17\n",
      "Longitud de Y = 17\n",
      "Longitud total = 34\n"
     ]
    }
   ],
   "execution_count": 7
  },
  {
   "metadata": {
    "ExecuteTime": {
     "end_time": "2025-09-11T22:33:08.663862Z",
     "start_time": "2025-09-11T22:33:08.657712Z"
    }
   },
   "cell_type": "code",
   "source": [
    "\n",
    "poblacion = []\n",
    "\n",
    "for i in range(individuos):\n",
    "\n",
    "    bits_x = random.getrandbits(Lx)\n",
    "\n",
    "    bits_y = random.getrandbits(Ly)\n",
    "\n",
    "    cromosoma_x = format(bits_x, f'0{Lx}b')\n",
    "    cromosoma_y = format(bits_y, f'0{Ly}b')\n",
    "\n",
    "    cromosoma_completo = cromosoma_x + cromosoma_y\n",
    "\n",
    "    poblacion.append({\n",
    "        'cromosoma': cromosoma_completo,\n",
    "        'bits_x': cromosoma_x,\n",
    "        'bits_y': cromosoma_y\n",
    "    })\n",
    "\n",
    "print(\"Población inicial generada:\")\n",
    "for i, individuo in enumerate(poblacion):\n",
    "    print(f\"Individuo {i+1}: {individuo['cromosoma']}\")\n",
    "    print(f\"  X: {individuo['bits_x']} | Y: {individuo['bits_y']}\")"
   ],
   "id": "a4bdedc3da62a7d7",
   "outputs": [
    {
     "name": "stdout",
     "output_type": "stream",
     "text": [
      "Población inicial generada:\n",
      "Individuo 1: 1111110111111001010011000010011001\n",
      "  X: 11111101111110010 | Y: 10011000010011001\n",
      "Individuo 2: 1100011110010101101000111011101111\n",
      "  X: 11000111100101011 | Y: 01000111011101111\n",
      "Individuo 3: 0100000110001110111000011011100010\n",
      "  X: 01000001100011101 | Y: 11000011011100010\n",
      "Individuo 4: 1000110100100100110010111011111111\n",
      "  X: 10001101001001001 | Y: 10010111011111111\n",
      "Individuo 5: 1101000001001001110100011011001010\n",
      "  X: 11010000010010011 | Y: 10100011011001010\n"
     ]
    }
   ],
   "execution_count": 8
  },
  {
   "metadata": {
    "ExecuteTime": {
     "end_time": "2025-09-11T22:33:34.252038Z",
     "start_time": "2025-09-11T22:33:34.244953Z"
    }
   },
   "cell_type": "code",
   "source": [
    "\n",
    "def decodificar_individuo(bits_x, bits_y):\n",
    "\n",
    "    x_entero = int(bits_x, 2)\n",
    "    y_entero = int(bits_y, 2)\n",
    "\n",
    "    x_real = liX + ((x_entero * (lsX - liX)) / (math.pow(2, Lx) - 1))\n",
    "    y_real = liY + ((y_entero * (lsY - liY)) / (math.pow(2, Ly) - 1))\n",
    "\n",
    "    return x_real, y_real\n",
    "print(\"Decodificación de la población:\")\n",
    "for i, individuo in enumerate(poblacion):\n",
    "    x_real, y_real = decodificar_individuo(individuo['bits_x'], individuo['bits_y'])\n",
    "    individuo['x_real'] = x_real\n",
    "    individuo['y_real'] = y_real\n",
    "\n",
    "    print(f\"Individuo {i+1}: x={x_real:8.4f}, y={y_real:8.4f}\")"
   ],
   "id": "3465ca6782a7d717",
   "outputs": [
    {
     "name": "stdout",
     "output_type": "stream",
     "text": [
      "Decodificación de la población:\n",
      "Individuo 1: x=  3.9367, y=  3.1391\n",
      "Individuo 2: x=  2.2370, y= -0.6500\n",
      "Individuo 3: x= -1.9513, y=  5.1614\n",
      "Individuo 4: x=  0.4107, y=  3.1015\n",
      "Individuo 5: x=  2.5090, y=  3.6592\n"
     ]
    }
   ],
   "execution_count": 24
  },
  {
   "metadata": {
    "ExecuteTime": {
     "end_time": "2025-09-11T22:33:33.754420Z",
     "start_time": "2025-09-11T22:33:33.747905Z"
    }
   },
   "cell_type": "code",
   "source": [
    "\n",
    "def funcion_objetivo(x, y):\n",
    "    return x**2 + 2*y - 33\n",
    "\n",
    "print(\"Evaluación de la función objetivo:\")\n",
    "print(f\"{'Ind':<3} {'X':<10} {'Y':<10} {'f(x,y)':<10}\")\n",
    "print(\"-\" * 40)\n",
    "\n",
    "for i, individuo in enumerate(poblacion):\n",
    "    x = individuo['x_real']\n",
    "    y = individuo['y_real']\n",
    "    fitness = funcion_objetivo(x, y)\n",
    "    individuo['fitness'] = fitness\n",
    "\n",
    "    print(f\"{i+1:2d}  {x:10.4f} {y:10.4f} {fitness:10.4f}\")"
   ],
   "id": "776b4519e709d3c9",
   "outputs": [
    {
     "name": "stdout",
     "output_type": "stream",
     "text": [
      "Evaluación de la función objetivo:\n",
      "Ind X          Y          f(x,y)    \n",
      "----------------------------------------\n",
      " 1      3.9367     3.1391   -11.2242\n",
      " 2      2.2370    -0.6500   -29.2956\n",
      " 3     -1.9513     5.1614   -18.8695\n",
      " 4      0.4107     3.1015   -26.6282\n",
      " 5      2.5090     3.6592   -19.3865\n"
     ]
    }
   ],
   "execution_count": 23
  },
  {
   "metadata": {
    "ExecuteTime": {
     "end_time": "2025-09-11T22:33:33.038024Z",
     "start_time": "2025-09-11T22:33:33.031876Z"
    }
   },
   "cell_type": "code",
   "source": [
    "\n",
    "mejor_individuo = min(poblacion, key=lambda x: x['fitness'])\n",
    "indice_mejor = poblacion.index(mejor_individuo)\n",
    "\n",
    "print(\"MEJOR INDIVIDUO ENCONTRADO:\")\n",
    "print(f\"Individuo número: {indice_mejor + 1}\")\n",
    "print(f\"Cromosoma completo: {mejor_individuo['cromosoma']}\")\n",
    "print(f\"Bits X: {mejor_individuo['bits_x']}\")\n",
    "print(f\"Bits Y: {mejor_individuo['bits_y']}\")\n",
    "print(f\"Valor de X: {mejor_individuo['x_real']:.4f}\")\n",
    "print(f\"Valor de Y: {mejor_individuo['y_real']:.4f}\")\n",
    "print(f\"f(x,y) = {mejor_individuo['fitness']:.4f}\")\n",
    "\n",
    "fitness_values = [ind['fitness'] for ind in poblacion]\n",
    "print(f\"\\nEstadísticas:\")\n",
    "print(f\"Fitness promedio: {sum(fitness_values)/len(fitness_values):.4f}\")\n",
    "print(f\"Fitness mínimo: {min(fitness_values):.4f}\")\n",
    "print(f\"Fitness máximo: {max(fitness_values):.4f}\")"
   ],
   "id": "9ac811001e8a0ab2",
   "outputs": [
    {
     "name": "stdout",
     "output_type": "stream",
     "text": [
      "MEJOR INDIVIDUO ENCONTRADO:\n",
      "Individuo número: 2\n",
      "Cromosoma completo: 1100011110010101101000111011101111\n",
      "Bits X: 11000111100101011\n",
      "Bits Y: 01000111011101111\n",
      "Valor de X: 2.2370\n",
      "Valor de Y: -0.6500\n",
      "f(x,y) = -29.2956\n",
      "\n",
      "Estadísticas:\n",
      "Fitness promedio: -21.0808\n",
      "Fitness mínimo: -29.2956\n",
      "Fitness máximo: -11.2242\n"
     ]
    }
   ],
   "execution_count": 22
  }
 ],
 "metadata": {
  "kernelspec": {
   "display_name": "Python 3",
   "language": "python",
   "name": "python3"
  },
  "language_info": {
   "codemirror_mode": {
    "name": "ipython",
    "version": 2
   },
   "file_extension": ".py",
   "mimetype": "text/x-python",
   "name": "python",
   "nbconvert_exporter": "python",
   "pygments_lexer": "ipython2",
   "version": "2.7.6"
  }
 },
 "nbformat": 4,
 "nbformat_minor": 5
}
